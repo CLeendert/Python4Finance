{
 "cells": [
  {
   "cell_type": "code",
   "execution_count": 18,
   "metadata": {},
   "outputs": [],
   "source": [
    "# Provides ways to work with large multidimensional arrays\n",
    "import numpy as np \n",
    "# Allows for further data manipulation and analysis\n",
    "import pandas as pd\n",
    "from pandas_datareader import data as web # Reads stock data \n",
    "import matplotlib.pyplot as plt # Plotting\n",
    "import matplotlib.dates as mdates # Styling dates\n",
    "%matplotlib inline\n",
    "\n",
    "import datetime as dt # For defining dates\n",
    "import mplfinance as mpf # Matplotlib finance\n",
    "\n",
    "import time\n",
    "\n",
    "# Used to get data from a directory\n",
    "import os\n",
    "from os import listdir\n",
    "from os.path import isfile, join\n",
    "\n",
    "#Statsmodels is a great library we can use to run regressions.\n",
    "import statsmodels.api as sm\n",
    "# Seaborn extends the capabilities of Matplotlib\n",
    "import seaborn as sns\n",
    "# Used for calculating regressions\n",
    "from statsmodels.tsa.ar_model import AutoReg, ar_select_order"
   ]
  },
  {
   "cell_type": "markdown",
   "metadata": {},
   "source": [
    "## Dates & Other Constants"
   ]
  },
  {
   "cell_type": "code",
   "execution_count": 19,
   "metadata": {},
   "outputs": [],
   "source": [
    "# Define path to files\n",
    "# For MacOS\n",
    "# PATH = \"/Users/derekbanas/Documents/Tutorials/Python for Finance/Stocks/\"\n",
    "# For Windows\n",
    "PATH = \"C:/Users/CLeen/Documents/GitHub/Python4Finance/stock_list/\"\n",
    "\n",
    "# Start date defaults\n",
    "S_YEAR = 2017\n",
    "S_MONTH = 1\n",
    "S_DAY = 3\n",
    "S_DATE_STR = \"2017-01-03\"\n",
    "S_DATE_DATETIME = dt.datetime(S_YEAR, S_MONTH, S_DAY)\n",
    "\n",
    "# End date defaults\n",
    "E_YEAR = 2021\n",
    "E_MONTH = 8\n",
    "E_DAY = 19\n",
    "E_DATE_STR = \"2021-08-19\"\n",
    "E_DATE_DATETIME = dt.datetime(E_YEAR, E_MONTH, E_DAY)\n",
    "\n",
    "risk_free_rate = 0.0125 # Approximate 10 year bond rate"
   ]
  },
  {
   "cell_type": "markdown",
   "metadata": {},
   "source": [
    "## Function that Saves Dataframe to CSV"
   ]
  },
  {
   "cell_type": "code",
   "execution_count": 20,
   "metadata": {},
   "outputs": [],
   "source": [
    "def save_dataframe_to_csv(df, ticker):\n",
    "    df.to_csv(PATH + ticker + '.csv')"
   ]
  },
  {
   "cell_type": "markdown",
   "metadata": {},
   "source": [
    "## Function that Returns a Dataframe from a CSV"
   ]
  },
  {
   "cell_type": "code",
   "execution_count": 21,
   "metadata": {},
   "outputs": [],
   "source": [
    "def get_df_from_csv(ticker):\n",
    "    try:\n",
    "        df = pd.read_csv(PATH + ticker + '.csv', index_col='Date', \n",
    "                         parse_dates=True)\n",
    "    except FileNotFoundError:\n",
    "        pass\n",
    "        # print(\"File Doesn't Exist\")\n",
    "    else:\n",
    "        return df"
   ]
  },
  {
   "cell_type": "markdown",
   "metadata": {},
   "source": [
    "## Add Daily Return to Dataframe"
   ]
  },
  {
   "cell_type": "code",
   "execution_count": 22,
   "metadata": {},
   "outputs": [],
   "source": [
    "# Shift provides the value from the previous day\n",
    "# NaN is displayed because there was no previous day price for the 1st calculation\n",
    "def add_daily_return_to_df(df, ticker):\n",
    "    df['daily_return'] = (df['Adj Close'] / df['Adj Close'].shift(1)) - 1\n",
    "    # Save data to a CSV file\n",
    "    save_dataframe_to_csv(df, ticker)\n",
    "    return df  "
   ]
  },
  {
   "cell_type": "markdown",
   "metadata": {},
   "source": [
    "## Merge Multiple Stocks in One Dataframe by Column Name"
   ]
  },
  {
   "cell_type": "code",
   "execution_count": 23,
   "metadata": {},
   "outputs": [],
   "source": [
    "def merge_df_by_column_name(col_name, sdate, edate, *tickers):\n",
    "    # Will hold data for all dataframes with the same column name\n",
    "    mult_df = pd.DataFrame()\n",
    "    \n",
    "    for x in tickers:\n",
    "        df = get_df_from_csv(x)\n",
    "        \n",
    "        # NEW Check if your dataframe has duplicate indexes\n",
    "        if not df.index.is_unique:\n",
    "            # Delete duplicates \n",
    "            df = df.loc[~df.index.duplicated(), :]\n",
    "        \n",
    "        mask = (df.index >= sdate) & (df.index <= edate)\n",
    "        mult_df[x] = df.loc[mask][col_name]\n",
    "        \n",
    "    return mult_df"
   ]
  },
  {
   "cell_type": "code",
   "execution_count": 24,
   "metadata": {},
   "outputs": [
    {
     "data": {
      "text/html": [
       "<div>\n",
       "<style scoped>\n",
       "    .dataframe tbody tr th:only-of-type {\n",
       "        vertical-align: middle;\n",
       "    }\n",
       "\n",
       "    .dataframe tbody tr th {\n",
       "        vertical-align: top;\n",
       "    }\n",
       "\n",
       "    .dataframe thead th {\n",
       "        text-align: right;\n",
       "    }\n",
       "</style>\n",
       "<table border=\"1\" class=\"dataframe\">\n",
       "  <thead>\n",
       "    <tr style=\"text-align: right;\">\n",
       "      <th></th>\n",
       "      <th>AMD</th>\n",
       "      <th>CPRT</th>\n",
       "    </tr>\n",
       "    <tr>\n",
       "      <th>Date</th>\n",
       "      <th></th>\n",
       "      <th></th>\n",
       "    </tr>\n",
       "  </thead>\n",
       "  <tbody>\n",
       "    <tr>\n",
       "      <th>2018-01-02</th>\n",
       "      <td>0.068093</td>\n",
       "      <td>0.009493</td>\n",
       "    </tr>\n",
       "    <tr>\n",
       "      <th>2018-01-03</th>\n",
       "      <td>0.051913</td>\n",
       "      <td>-0.004816</td>\n",
       "    </tr>\n",
       "    <tr>\n",
       "      <th>2018-01-04</th>\n",
       "      <td>0.049351</td>\n",
       "      <td>0.008066</td>\n",
       "    </tr>\n",
       "    <tr>\n",
       "      <th>2018-01-05</th>\n",
       "      <td>-0.019802</td>\n",
       "      <td>-0.004801</td>\n",
       "    </tr>\n",
       "    <tr>\n",
       "      <th>2018-01-08</th>\n",
       "      <td>0.033670</td>\n",
       "      <td>0.000459</td>\n",
       "    </tr>\n",
       "    <tr>\n",
       "      <th>...</th>\n",
       "      <td>...</td>\n",
       "      <td>...</td>\n",
       "    </tr>\n",
       "    <tr>\n",
       "      <th>2021-08-13</th>\n",
       "      <td>0.038028</td>\n",
       "      <td>0.000990</td>\n",
       "    </tr>\n",
       "    <tr>\n",
       "      <th>2021-08-16</th>\n",
       "      <td>-0.027770</td>\n",
       "      <td>-0.005018</td>\n",
       "    </tr>\n",
       "    <tr>\n",
       "      <th>2021-08-17</th>\n",
       "      <td>0.000744</td>\n",
       "      <td>-0.012501</td>\n",
       "    </tr>\n",
       "    <tr>\n",
       "      <th>2021-08-18</th>\n",
       "      <td>-0.038304</td>\n",
       "      <td>-0.009063</td>\n",
       "    </tr>\n",
       "    <tr>\n",
       "      <th>2021-08-19</th>\n",
       "      <td>0.002513</td>\n",
       "      <td>-0.001307</td>\n",
       "    </tr>\n",
       "  </tbody>\n",
       "</table>\n",
       "<p>915 rows × 2 columns</p>\n",
       "</div>"
      ],
      "text/plain": [
       "                 AMD      CPRT\n",
       "Date                          \n",
       "2018-01-02  0.068093  0.009493\n",
       "2018-01-03  0.051913 -0.004816\n",
       "2018-01-04  0.049351  0.008066\n",
       "2018-01-05 -0.019802 -0.004801\n",
       "2018-01-08  0.033670  0.000459\n",
       "...              ...       ...\n",
       "2021-08-13  0.038028  0.000990\n",
       "2021-08-16 -0.027770 -0.005018\n",
       "2021-08-17  0.000744 -0.012501\n",
       "2021-08-18 -0.038304 -0.009063\n",
       "2021-08-19  0.002513 -0.001307\n",
       "\n",
       "[915 rows x 2 columns]"
      ]
     },
     "execution_count": 24,
     "metadata": {},
     "output_type": "execute_result"
    }
   ],
   "source": [
    "port_list = [\"AMD\", \"CPRT\"]\n",
    "mult_df = merge_df_by_column_name('daily_return',  '2018-01-02', \n",
    "                                  '2021-09-10', *port_list)\n",
    "mult_df"
   ]
  },
  {
   "cell_type": "markdown",
   "metadata": {},
   "source": [
    "## Calculating Beta"
   ]
  },
  {
   "cell_type": "markdown",
   "metadata": {},
   "source": [
    "Beta provides the relationship between an investment and the overall market. Risky investments tend to fall further during bad times, but will increase quicker during good times. \n",
    "\n",
    "Beta is found by dividing the covariance of the stock and the market by the variance of the overall market. It is a measure of systematic risk that can't be diversified away.  \n",
    "\n",
    "$ \\beta = \\frac{Cov(r_x, r_m)}{\\sigma_m^2} $\n",
    "\n",
    "$ \\beta = 0 $ : No relation to market\n",
    "\n",
    "$ \\beta < 1 $ : Less risky than market\n",
    "\n",
    "$ \\beta > 1 $ : More risky than the market"
   ]
  },
  {
   "cell_type": "markdown",
   "metadata": {},
   "source": [
    "## Examples"
   ]
  },
  {
   "cell_type": "markdown",
   "metadata": {},
   "source": [
    "Albertsons is a grocery store chain with a low beta of 0.5 because no matter what people need food and pharmecueticals. \n",
    "\n",
    "AMD manufacturers microchips and is a high beta stock at 1.4 because during hard times there is less demand for their products."
   ]
  },
  {
   "cell_type": "markdown",
   "metadata": {},
   "source": [
    "## Get S&P 500 and AMD Data"
   ]
  },
  {
   "cell_type": "code",
   "execution_count": 38,
   "metadata": {},
   "outputs": [
    {
     "data": {
      "text/html": [
       "<div>\n",
       "<style scoped>\n",
       "    .dataframe tbody tr th:only-of-type {\n",
       "        vertical-align: middle;\n",
       "    }\n",
       "\n",
       "    .dataframe tbody tr th {\n",
       "        vertical-align: top;\n",
       "    }\n",
       "\n",
       "    .dataframe thead th {\n",
       "        text-align: right;\n",
       "    }\n",
       "</style>\n",
       "<table border=\"1\" class=\"dataframe\">\n",
       "  <thead>\n",
       "    <tr style=\"text-align: right;\">\n",
       "      <th></th>\n",
       "      <th>Adj Close</th>\n",
       "      <th>daily_return</th>\n",
       "    </tr>\n",
       "    <tr>\n",
       "      <th>Date</th>\n",
       "      <th></th>\n",
       "      <th></th>\n",
       "    </tr>\n",
       "  </thead>\n",
       "  <tbody>\n",
       "    <tr>\n",
       "      <th>2017-01-03</th>\n",
       "      <td>11.430000</td>\n",
       "      <td>NaN</td>\n",
       "    </tr>\n",
       "    <tr>\n",
       "      <th>2017-01-04</th>\n",
       "      <td>11.430000</td>\n",
       "      <td>0.000000</td>\n",
       "    </tr>\n",
       "    <tr>\n",
       "      <th>2017-01-05</th>\n",
       "      <td>11.240000</td>\n",
       "      <td>-0.016623</td>\n",
       "    </tr>\n",
       "    <tr>\n",
       "      <th>2017-01-06</th>\n",
       "      <td>11.320000</td>\n",
       "      <td>0.007117</td>\n",
       "    </tr>\n",
       "    <tr>\n",
       "      <th>2017-01-09</th>\n",
       "      <td>11.490000</td>\n",
       "      <td>0.015018</td>\n",
       "    </tr>\n",
       "    <tr>\n",
       "      <th>...</th>\n",
       "      <td>...</td>\n",
       "      <td>...</td>\n",
       "    </tr>\n",
       "    <tr>\n",
       "      <th>2021-08-13</th>\n",
       "      <td>110.550003</td>\n",
       "      <td>0.038028</td>\n",
       "    </tr>\n",
       "    <tr>\n",
       "      <th>2021-08-16</th>\n",
       "      <td>107.480003</td>\n",
       "      <td>-0.027770</td>\n",
       "    </tr>\n",
       "    <tr>\n",
       "      <th>2021-08-17</th>\n",
       "      <td>107.559998</td>\n",
       "      <td>0.000744</td>\n",
       "    </tr>\n",
       "    <tr>\n",
       "      <th>2021-08-18</th>\n",
       "      <td>103.440002</td>\n",
       "      <td>-0.038304</td>\n",
       "    </tr>\n",
       "    <tr>\n",
       "      <th>2021-08-19</th>\n",
       "      <td>103.699997</td>\n",
       "      <td>0.002513</td>\n",
       "    </tr>\n",
       "  </tbody>\n",
       "</table>\n",
       "<p>1166 rows × 2 columns</p>\n",
       "</div>"
      ],
      "text/plain": [
       "             Adj Close  daily_return\n",
       "Date                                \n",
       "2017-01-03   11.430000           NaN\n",
       "2017-01-04   11.430000      0.000000\n",
       "2017-01-05   11.240000     -0.016623\n",
       "2017-01-06   11.320000      0.007117\n",
       "2017-01-09   11.490000      0.015018\n",
       "...                ...           ...\n",
       "2021-08-13  110.550003      0.038028\n",
       "2021-08-16  107.480003     -0.027770\n",
       "2021-08-17  107.559998      0.000744\n",
       "2021-08-18  103.440002     -0.038304\n",
       "2021-08-19  103.699997      0.002513\n",
       "\n",
       "[1166 rows x 2 columns]"
      ]
     },
     "execution_count": 38,
     "metadata": {},
     "output_type": "execute_result"
    }
   ],
   "source": [
    "# # Will hold S&P 500 adjusted close data\n",
    "sp_df = pd.DataFrame()\n",
    "\n",
    "# # Download data from Yahoo\n",
    "sp_df = web.DataReader('^GSPC', 'yahoo', '2017-1-3', '2021-9-10')['Adj Close']\n",
    "\n",
    "amd_df = get_df_from_csv('AMD')\n",
    "\n",
    "amd_df"
   ]
  },
  {
   "cell_type": "code",
   "execution_count": 39,
   "metadata": {},
   "outputs": [
    {
     "data": {
      "text/html": [
       "<div>\n",
       "<style scoped>\n",
       "    .dataframe tbody tr th:only-of-type {\n",
       "        vertical-align: middle;\n",
       "    }\n",
       "\n",
       "    .dataframe tbody tr th {\n",
       "        vertical-align: top;\n",
       "    }\n",
       "\n",
       "    .dataframe thead th {\n",
       "        text-align: right;\n",
       "    }\n",
       "</style>\n",
       "<table border=\"1\" class=\"dataframe\">\n",
       "  <thead>\n",
       "    <tr style=\"text-align: right;\">\n",
       "      <th></th>\n",
       "      <th>Adj Close</th>\n",
       "      <th>daily_return</th>\n",
       "    </tr>\n",
       "    <tr>\n",
       "      <th>Date</th>\n",
       "      <th></th>\n",
       "      <th></th>\n",
       "    </tr>\n",
       "  </thead>\n",
       "  <tbody>\n",
       "    <tr>\n",
       "      <th>2017-01-03</th>\n",
       "      <td>47.102776</td>\n",
       "      <td>NaN</td>\n",
       "    </tr>\n",
       "    <tr>\n",
       "      <th>2017-01-04</th>\n",
       "      <td>47.493500</td>\n",
       "      <td>0.008295</td>\n",
       "    </tr>\n",
       "    <tr>\n",
       "      <th>2017-01-05</th>\n",
       "      <td>46.277935</td>\n",
       "      <td>-0.025594</td>\n",
       "    </tr>\n",
       "    <tr>\n",
       "      <th>2017-01-06</th>\n",
       "      <td>45.974052</td>\n",
       "      <td>-0.006566</td>\n",
       "    </tr>\n",
       "    <tr>\n",
       "      <th>2017-01-09</th>\n",
       "      <td>45.149208</td>\n",
       "      <td>-0.017942</td>\n",
       "    </tr>\n",
       "  </tbody>\n",
       "</table>\n",
       "</div>"
      ],
      "text/plain": [
       "            Adj Close  daily_return\n",
       "Date                               \n",
       "2017-01-03  47.102776           NaN\n",
       "2017-01-04  47.493500      0.008295\n",
       "2017-01-05  46.277935     -0.025594\n",
       "2017-01-06  45.974052     -0.006566\n",
       "2017-01-09  45.149208     -0.017942"
      ]
     },
     "execution_count": 39,
     "metadata": {},
     "output_type": "execute_result"
    }
   ],
   "source": [
    "sp_df = get_df_from_csv('GSPC')\n",
    "\n",
    "sp_df.head()"
   ]
  },
  {
   "cell_type": "markdown",
   "metadata": {},
   "source": [
    "## Add Daily Return & Save to CSV"
   ]
  },
  {
   "cell_type": "code",
   "execution_count": 40,
   "metadata": {},
   "outputs": [
    {
     "data": {
      "text/html": [
       "<div>\n",
       "<style scoped>\n",
       "    .dataframe tbody tr th:only-of-type {\n",
       "        vertical-align: middle;\n",
       "    }\n",
       "\n",
       "    .dataframe tbody tr th {\n",
       "        vertical-align: top;\n",
       "    }\n",
       "\n",
       "    .dataframe thead th {\n",
       "        text-align: right;\n",
       "    }\n",
       "</style>\n",
       "<table border=\"1\" class=\"dataframe\">\n",
       "  <thead>\n",
       "    <tr style=\"text-align: right;\">\n",
       "      <th></th>\n",
       "      <th>Adj Close</th>\n",
       "      <th>daily_return</th>\n",
       "    </tr>\n",
       "    <tr>\n",
       "      <th>Date</th>\n",
       "      <th></th>\n",
       "      <th></th>\n",
       "    </tr>\n",
       "  </thead>\n",
       "  <tbody>\n",
       "    <tr>\n",
       "      <th>2017-01-03</th>\n",
       "      <td>47.102776</td>\n",
       "      <td>NaN</td>\n",
       "    </tr>\n",
       "    <tr>\n",
       "      <th>2017-01-04</th>\n",
       "      <td>47.493500</td>\n",
       "      <td>0.008295</td>\n",
       "    </tr>\n",
       "    <tr>\n",
       "      <th>2017-01-05</th>\n",
       "      <td>46.277935</td>\n",
       "      <td>-0.025594</td>\n",
       "    </tr>\n",
       "    <tr>\n",
       "      <th>2017-01-06</th>\n",
       "      <td>45.974052</td>\n",
       "      <td>-0.006566</td>\n",
       "    </tr>\n",
       "    <tr>\n",
       "      <th>2017-01-09</th>\n",
       "      <td>45.149208</td>\n",
       "      <td>-0.017942</td>\n",
       "    </tr>\n",
       "    <tr>\n",
       "      <th>...</th>\n",
       "      <td>...</td>\n",
       "      <td>...</td>\n",
       "    </tr>\n",
       "    <tr>\n",
       "      <th>2021-08-13</th>\n",
       "      <td>53.520000</td>\n",
       "      <td>-0.006682</td>\n",
       "    </tr>\n",
       "    <tr>\n",
       "      <th>2021-08-16</th>\n",
       "      <td>53.299999</td>\n",
       "      <td>-0.004111</td>\n",
       "    </tr>\n",
       "    <tr>\n",
       "      <th>2021-08-17</th>\n",
       "      <td>52.959999</td>\n",
       "      <td>-0.006379</td>\n",
       "    </tr>\n",
       "    <tr>\n",
       "      <th>2021-08-18</th>\n",
       "      <td>52.500000</td>\n",
       "      <td>-0.008686</td>\n",
       "    </tr>\n",
       "    <tr>\n",
       "      <th>2021-08-19</th>\n",
       "      <td>52.570000</td>\n",
       "      <td>0.001333</td>\n",
       "    </tr>\n",
       "  </tbody>\n",
       "</table>\n",
       "<p>1166 rows × 2 columns</p>\n",
       "</div>"
      ],
      "text/plain": [
       "            Adj Close  daily_return\n",
       "Date                               \n",
       "2017-01-03  47.102776           NaN\n",
       "2017-01-04  47.493500      0.008295\n",
       "2017-01-05  46.277935     -0.025594\n",
       "2017-01-06  45.974052     -0.006566\n",
       "2017-01-09  45.149208     -0.017942\n",
       "...               ...           ...\n",
       "2021-08-13  53.520000     -0.006682\n",
       "2021-08-16  53.299999     -0.004111\n",
       "2021-08-17  52.959999     -0.006379\n",
       "2021-08-18  52.500000     -0.008686\n",
       "2021-08-19  52.570000      0.001333\n",
       "\n",
       "[1166 rows x 2 columns]"
      ]
     },
     "execution_count": 40,
     "metadata": {},
     "output_type": "execute_result"
    }
   ],
   "source": [
    "# # Save S&P to csv\n",
    "save_dataframe_to_csv(sp_df, 'GSPC')\n",
    "\n",
    "# # Get dataframe from csv\n",
    "sp_df2 = get_df_from_csv('GSPC')\n",
    "\n",
    "# # Add daily return to dataframe\n",
    "add_daily_return_to_df(sp_df2, 'GSPC')\n",
    "sp_df2"
   ]
  },
  {
   "cell_type": "markdown",
   "metadata": {},
   "source": [
    "## Find Beta for Stock versus S&P"
   ]
  },
  {
   "cell_type": "code",
   "execution_count": 41,
   "metadata": {},
   "outputs": [],
   "source": [
    "def find_beta(ticker):\n",
    "    # Tickers analyzed being the S&P and the stock passed\n",
    "    port_list =['GSPC']\n",
    "    port_list.append(ticker)\n",
    "\n",
    "    mult_df = merge_df_by_column_name('daily_return',  '2018-01-02', \n",
    "                                  '2021-09-10', *port_list)\n",
    "    \n",
    "    # Provides the covariance between the securities\n",
    "    cov = mult_df.cov() * 252\n",
    "    \n",
    "    # Get the covariance of the stock and the market\n",
    "    cov_vs_market = cov.iloc[0,1]\n",
    "    \n",
    "    # Get annualized variance of the S&P\n",
    "    sp_var = mult_df['GSPC'].var() * 252\n",
    "    \n",
    "    # Beta is normally calculated over a 5 year period which is why you may see a difference\n",
    "    beta = cov_vs_market / sp_var\n",
    "    return beta\n"
   ]
  },
  {
   "cell_type": "markdown",
   "metadata": {},
   "source": [
    "## Get Stock Beta"
   ]
  },
  {
   "cell_type": "code",
   "execution_count": 42,
   "metadata": {},
   "outputs": [
    {
     "name": "stdout",
     "output_type": "stream",
     "text": [
      "AMD Beta : 0.31619801454443613\n"
     ]
    }
   ],
   "source": [
    "print(\"AMD Beta :\", find_beta('AMD'))"
   ]
  },
  {
   "cell_type": "markdown",
   "metadata": {},
   "source": [
    "## Capital Asset Pricing Model"
   ]
  },
  {
   "cell_type": "markdown",
   "metadata": {},
   "source": [
    "Sharpe continued to create the CAPM based on the research of Markowitz. It focuses on investments in stocks and bonds. With it we can more exactly create portfolios that match the risk an investor is willing to assume. CAPM assumes a risk free asset which of course provides a small return. So if the investor wants less risk they simply buy more of the risk free assets.\n",
    "\n",
    "There is risk that you can limit through diversifaction (Idiosyncratic) and risk that you can't (Systematic). This portfolio contains no Idiosyncratic risk and like before it lies on the efficient frontier.\n",
    "\n",
    "To find this portfolio we will draw a line ( The Capital Market Line ) from the Y intercept to the efficient frontier. \n",
    "\n",
    "Here is the formula. The securities expected return equals the risk free asset plus Beta times the market return minus the risk free asset. it is common for $ r_m - r_f $ to be considered 5% which is called the Equity Risk Premium.\n",
    "\n",
    "$ r_i = r_f + \\beta_i (r_m - r_f) $"
   ]
  },
  {
   "cell_type": "markdown",
   "metadata": {},
   "source": [
    "## Calculate AMDs Expected Return"
   ]
  },
  {
   "cell_type": "code",
   "execution_count": 44,
   "metadata": {},
   "outputs": [
    {
     "data": {
      "text/plain": [
       "0.02880990072722181"
      ]
     },
     "execution_count": 44,
     "metadata": {},
     "output_type": "execute_result"
    }
   ],
   "source": [
    "risk_free_rate = 0.013\n",
    "ri = risk_free_rate + find_beta('AMD') * 0.05\n",
    "ri"
   ]
  },
  {
   "cell_type": "markdown",
   "metadata": {},
   "source": [
    "## Sharpe Ratio"
   ]
  },
  {
   "cell_type": "markdown",
   "metadata": {},
   "source": [
    "William Sharpe created the Sharpe Ratio to find the portfolio that provides the best return for the lowest amount of risk. \n",
    "\n",
    "*Sharpe Ratio* = $\\frac{r_i - r_f}{\\sigma_i}$\n",
    "\n",
    "$r_f = $ Risk Free Rate\n",
    "\n",
    "$r_i = $ Rate of Return of the stock\n",
    "\n",
    "$\\sigma_i = $ Standard Deviation of the Stock\n",
    "\n",
    "As return increases so does the Sharpe Ratio, but as Standard Deviation increase the Sharpe Ratio decreases."
   ]
  },
  {
   "cell_type": "code",
   "execution_count": 45,
   "metadata": {},
   "outputs": [
    {
     "data": {
      "text/plain": [
       "0.02795760225903934"
      ]
     },
     "execution_count": 45,
     "metadata": {},
     "output_type": "execute_result"
    }
   ],
   "source": [
    "# We can find the Sharpe ratio for AMD\n",
    "amd_sharpe = (ri - risk_free_rate) / (mult_df['AMD'].std() * 252 ** 0.5)\n",
    "amd_sharpe"
   ]
  },
  {
   "cell_type": "markdown",
   "metadata": {},
   "source": [
    "## Get Stock Prices on Date"
   ]
  },
  {
   "cell_type": "code",
   "execution_count": 52,
   "metadata": {},
   "outputs": [],
   "source": [
    "def get_prices_on_date(stocks_df, date):\n",
    "    return stocks_df.loc[pd.DatetimeIndex([date])]['Adj Close'].item()"
   ]
  },
  {
   "cell_type": "markdown",
   "metadata": {},
   "source": [
    "## Returns the Value of Portfolio by Date"
   ]
  },
  {
   "cell_type": "code",
   "execution_count": 49,
   "metadata": {},
   "outputs": [],
   "source": [
    "def get_port_val_by_date(date, shares, tickers):\n",
    "    port_prices = merge_df_by_column_name('Adj Close',  date, \n",
    "                                  date, *port_list)\n",
    "    # Convert from dataframe to Python list\n",
    "    port_prices = port_prices.values.tolist()\n",
    "    # Trick that converts a list of lists into a single list\n",
    "    port_prices = sum(port_prices, [])\n",
    "    \n",
    "    # Create a list of values by multiplying shares by price\n",
    "    value_list = []\n",
    "    for price, share in zip(port_prices, shares):\n",
    "        value_list.append(price * share)\n",
    "    \n",
    "    return sum(value_list)"
   ]
  },
  {
   "cell_type": "markdown",
   "metadata": {},
   "source": [
    "## Get Value of Portfolio at Beginning and End of Year"
   ]
  },
  {
   "cell_type": "code",
   "execution_count": 50,
   "metadata": {},
   "outputs": [
    {
     "name": "stdout",
     "output_type": "stream",
     "text": [
      "Portfolio Value at Start of 2020 : $11738.29\n",
      "Portfolio Value at End of 2020 : $19232.34\n"
     ]
    }
   ],
   "source": [
    "port_list = [\"GNRC\", \"CPRT\", \"ODFL\", \"AMD\", \"PAYC\", \"CHTR\", \"MKC\", \n",
    "             \"PG\", \"PGR\", \"NEM\", \"CCI\", \"COG\"]\n",
    "\n",
    "port_shares = [25, 20, 22, 26, 1, 1, 4, 1, 5, 28, 3, 7]\n",
    "\n",
    "# Portfolio value at start of 2020\n",
    "port_val_start = get_port_val_by_date('2020-01-02', port_shares, port_list)\n",
    "print(\"Portfolio Value at Start of 2020 : $%2.2f\" % (port_val_start))\n",
    "\n",
    "# Portfolio value at end of 2020\n",
    "port_val_end = get_port_val_by_date('2020-12-31', port_shares, port_list)\n",
    "print(\"Portfolio Value at End of 2020 : $%2.2f\" % (port_val_end))"
   ]
  },
  {
   "cell_type": "markdown",
   "metadata": {},
   "source": [
    "## Calculate Return on Investment"
   ]
  },
  {
   "cell_type": "markdown",
   "metadata": {},
   "source": [
    "ROI = $\\frac{Final Value - Initial Value}{Initial Value}$"
   ]
  },
  {
   "cell_type": "code",
   "execution_count": 54,
   "metadata": {},
   "outputs": [
    {
     "name": "stdout",
     "output_type": "stream",
     "text": [
      "Portfolio ROI at End of 2020 : 38.97 %\n",
      "S&P ROI at End of 2020 : -22.84 %\n"
     ]
    }
   ],
   "source": [
    "# Rate of return for portfolio\n",
    "roi_port = (port_val_end - port_val_start) / port_val_end\n",
    "print(\"Portfolio ROI at End of 2020 : %2.2f %%\" % (roi_port * 100))\n",
    "\n",
    "# S&P ROI\n",
    "sp_df = get_df_from_csv('GSPC')\n",
    "sp_val_start = get_prices_on_date(sp_df, '2020-01-02')\n",
    "sp_val_end = get_prices_on_date(sp_df, '2020-12-31')\n",
    "sp_roi = (sp_val_end - sp_val_start) / sp_val_end\n",
    "print(\"S&P ROI at End of 2020 : %2.2f %%\" % (sp_roi * 100))"
   ]
  },
  {
   "cell_type": "markdown",
   "metadata": {},
   "source": [
    "## Find Daily Return for Whole Portfolio"
   ]
  },
  {
   "cell_type": "markdown",
   "metadata": {},
   "source": [
    "To find the daily return for the whole portfolio, I must multiply the daily price by the number of shares for each security. Then sum those values for all stocks per day. This creates a portfolio list of daily prices. Then I can calculate the daily return."
   ]
  },
  {
   "cell_type": "code",
   "execution_count": 82,
   "metadata": {},
   "outputs": [],
   "source": [
    "def get_port_daily_return(sdate, edate, shares, tickers):\n",
    "    # Merge all daily prices for all stocks into 1 dataframe\n",
    "    mult_df = merge_df_by_column_name('Adj Close',  sdate, \n",
    "                                  edate, *port_list)\n",
    "    \n",
    "    # Get the number of stocks in portfolio\n",
    "    num_cols = len(mult_df.columns)\n",
    "    \n",
    "    # Multiply each stock column by the number of shares\n",
    "    i = 0\n",
    "    while i < num_cols:\n",
    "        mult_df[tickers[i]] = mult_df[tickers[i]].apply(lambda x: x * shares[i])\n",
    "        i += 1\n",
    "        \n",
    "    # Create a new column with the sums of all stocks named Total\n",
    "    mult_df['Total'] = mult_df.iloc[:, 0:num_cols].sum(axis=1)\n",
    "    \n",
    "    # Add column for portfolio daily return\n",
    "    mult_df['daily_return'] = (mult_df['Total'] / mult_df['Total'].shift(1)) - 1\n",
    "    \n",
    "    return mult_df"
   ]
  },
  {
   "cell_type": "code",
   "execution_count": 116,
   "metadata": {
    "scrolled": true
   },
   "outputs": [
    {
     "data": {
      "text/html": [
       "<div>\n",
       "<style scoped>\n",
       "    .dataframe tbody tr th:only-of-type {\n",
       "        vertical-align: middle;\n",
       "    }\n",
       "\n",
       "    .dataframe tbody tr th {\n",
       "        vertical-align: top;\n",
       "    }\n",
       "\n",
       "    .dataframe thead th {\n",
       "        text-align: right;\n",
       "    }\n",
       "</style>\n",
       "<table border=\"1\" class=\"dataframe\">\n",
       "  <thead>\n",
       "    <tr style=\"text-align: right;\">\n",
       "      <th></th>\n",
       "      <th>GNRC</th>\n",
       "      <th>CPRT</th>\n",
       "      <th>ODFL</th>\n",
       "      <th>AMD</th>\n",
       "      <th>PAYC</th>\n",
       "      <th>CHTR</th>\n",
       "      <th>MKC</th>\n",
       "      <th>PG</th>\n",
       "      <th>PGR</th>\n",
       "      <th>NEM</th>\n",
       "      <th>CCI</th>\n",
       "      <th>COG</th>\n",
       "      <th>Total</th>\n",
       "      <th>daily_return</th>\n",
       "    </tr>\n",
       "    <tr>\n",
       "      <th>Date</th>\n",
       "      <th></th>\n",
       "      <th></th>\n",
       "      <th></th>\n",
       "      <th></th>\n",
       "      <th></th>\n",
       "      <th></th>\n",
       "      <th></th>\n",
       "      <th></th>\n",
       "      <th></th>\n",
       "      <th></th>\n",
       "      <th></th>\n",
       "      <th></th>\n",
       "      <th></th>\n",
       "      <th></th>\n",
       "    </tr>\n",
       "  </thead>\n",
       "  <tbody>\n",
       "    <tr>\n",
       "      <th>2020-01-02</th>\n",
       "      <td>2550.250053</td>\n",
       "      <td>1869.600067</td>\n",
       "      <td>2801.878052</td>\n",
       "      <td>1276.599960</td>\n",
       "      <td>271.799988</td>\n",
       "      <td>490.429993</td>\n",
       "      <td>327.721405</td>\n",
       "      <td>118.208862</td>\n",
       "      <td>341.399498</td>\n",
       "      <td>1168.771851</td>\n",
       "      <td>405.909119</td>\n",
       "      <td>115.724598</td>\n",
       "      <td>11738.293446</td>\n",
       "      <td>NaN</td>\n",
       "    </tr>\n",
       "    <tr>\n",
       "      <th>2020-01-03</th>\n",
       "      <td>2541.749954</td>\n",
       "      <td>1853.200073</td>\n",
       "      <td>2768.464981</td>\n",
       "      <td>1263.599960</td>\n",
       "      <td>272.709991</td>\n",
       "      <td>494.470001</td>\n",
       "      <td>332.944458</td>\n",
       "      <td>117.413841</td>\n",
       "      <td>341.353569</td>\n",
       "      <td>1158.225388</td>\n",
       "      <td>408.143738</td>\n",
       "      <td>116.060427</td>\n",
       "      <td>11668.336382</td>\n",
       "      <td>-0.005960</td>\n",
       "    </tr>\n",
       "    <tr>\n",
       "      <th>2020-01-06</th>\n",
       "      <td>2531.250000</td>\n",
       "      <td>1869.799957</td>\n",
       "      <td>2746.578781</td>\n",
       "      <td>1258.139984</td>\n",
       "      <td>278.089996</td>\n",
       "      <td>497.450012</td>\n",
       "      <td>334.939789</td>\n",
       "      <td>117.576675</td>\n",
       "      <td>347.554169</td>\n",
       "      <td>1169.853424</td>\n",
       "      <td>404.705795</td>\n",
       "      <td>117.000742</td>\n",
       "      <td>11672.939325</td>\n",
       "      <td>0.000394</td>\n",
       "    </tr>\n",
       "    <tr>\n",
       "      <th>2020-01-07</th>\n",
       "      <td>2572.500038</td>\n",
       "      <td>1867.400055</td>\n",
       "      <td>2754.457840</td>\n",
       "      <td>1254.500000</td>\n",
       "      <td>279.489990</td>\n",
       "      <td>499.160004</td>\n",
       "      <td>329.188568</td>\n",
       "      <td>116.848701</td>\n",
       "      <td>344.899635</td>\n",
       "      <td>1169.042191</td>\n",
       "      <td>397.858521</td>\n",
       "      <td>117.672400</td>\n",
       "      <td>11703.017942</td>\n",
       "      <td>0.002577</td>\n",
       "    </tr>\n",
       "    <tr>\n",
       "      <th>2020-01-08</th>\n",
       "      <td>2500.749969</td>\n",
       "      <td>1880.200043</td>\n",
       "      <td>2767.443634</td>\n",
       "      <td>1243.580048</td>\n",
       "      <td>283.119995</td>\n",
       "      <td>500.769989</td>\n",
       "      <td>327.428009</td>\n",
       "      <td>117.346779</td>\n",
       "      <td>346.937981</td>\n",
       "      <td>1137.943588</td>\n",
       "      <td>399.520248</td>\n",
       "      <td>113.172350</td>\n",
       "      <td>11618.212633</td>\n",
       "      <td>-0.007246</td>\n",
       "    </tr>\n",
       "    <tr>\n",
       "      <th>...</th>\n",
       "      <td>...</td>\n",
       "      <td>...</td>\n",
       "      <td>...</td>\n",
       "      <td>...</td>\n",
       "      <td>...</td>\n",
       "      <td>...</td>\n",
       "      <td>...</td>\n",
       "      <td>...</td>\n",
       "      <td>...</td>\n",
       "      <td>...</td>\n",
       "      <td>...</td>\n",
       "      <td>...</td>\n",
       "      <td>...</td>\n",
       "      <td>...</td>\n",
       "    </tr>\n",
       "    <tr>\n",
       "      <th>2020-12-24</th>\n",
       "      <td>5829.999924</td>\n",
       "      <td>2474.199982</td>\n",
       "      <td>4354.264801</td>\n",
       "      <td>2387.059937</td>\n",
       "      <td>462.130005</td>\n",
       "      <td>656.489990</td>\n",
       "      <td>369.677307</td>\n",
       "      <td>135.173843</td>\n",
       "      <td>467.704163</td>\n",
       "      <td>1664.569366</td>\n",
       "      <td>455.012192</td>\n",
       "      <td>116.410582</td>\n",
       "      <td>19372.692091</td>\n",
       "      <td>0.012335</td>\n",
       "    </tr>\n",
       "    <tr>\n",
       "      <th>2020-12-28</th>\n",
       "      <td>5825.999832</td>\n",
       "      <td>2534.400024</td>\n",
       "      <td>4280.906738</td>\n",
       "      <td>2381.599960</td>\n",
       "      <td>463.589996</td>\n",
       "      <td>651.900024</td>\n",
       "      <td>369.479523</td>\n",
       "      <td>136.116104</td>\n",
       "      <td>466.800270</td>\n",
       "      <td>1646.404465</td>\n",
       "      <td>461.660065</td>\n",
       "      <td>113.249495</td>\n",
       "      <td>19332.106497</td>\n",
       "      <td>-0.002095</td>\n",
       "    </tr>\n",
       "    <tr>\n",
       "      <th>2020-12-29</th>\n",
       "      <td>5534.249878</td>\n",
       "      <td>2518.399963</td>\n",
       "      <td>4263.775299</td>\n",
       "      <td>2356.120071</td>\n",
       "      <td>447.589996</td>\n",
       "      <td>664.979980</td>\n",
       "      <td>375.016571</td>\n",
       "      <td>135.860901</td>\n",
       "      <td>464.754562</td>\n",
       "      <td>1643.927292</td>\n",
       "      <td>460.360016</td>\n",
       "      <td>110.500713</td>\n",
       "      <td>18975.535244</td>\n",
       "      <td>-0.018445</td>\n",
       "    </tr>\n",
       "    <tr>\n",
       "      <th>2020-12-30</th>\n",
       "      <td>5729.750061</td>\n",
       "      <td>2530.800018</td>\n",
       "      <td>4252.573547</td>\n",
       "      <td>2399.540024</td>\n",
       "      <td>447.910004</td>\n",
       "      <td>653.489990</td>\n",
       "      <td>375.334137</td>\n",
       "      <td>135.222931</td>\n",
       "      <td>463.422470</td>\n",
       "      <td>1662.092300</td>\n",
       "      <td>462.073746</td>\n",
       "      <td>113.180775</td>\n",
       "      <td>19225.390003</td>\n",
       "      <td>0.013167</td>\n",
       "    </tr>\n",
       "    <tr>\n",
       "      <th>2020-12-31</th>\n",
       "      <td>5685.250092</td>\n",
       "      <td>2545.000000</td>\n",
       "      <td>4286.836426</td>\n",
       "      <td>2384.459976</td>\n",
       "      <td>452.250000</td>\n",
       "      <td>661.549988</td>\n",
       "      <td>379.462189</td>\n",
       "      <td>136.567596</td>\n",
       "      <td>470.415878</td>\n",
       "      <td>1648.330917</td>\n",
       "      <td>470.346680</td>\n",
       "      <td>111.875097</td>\n",
       "      <td>19232.344839</td>\n",
       "      <td>0.000362</td>\n",
       "    </tr>\n",
       "  </tbody>\n",
       "</table>\n",
       "<p>253 rows × 14 columns</p>\n",
       "</div>"
      ],
      "text/plain": [
       "                   GNRC         CPRT         ODFL          AMD        PAYC  \\\n",
       "Date                                                                         \n",
       "2020-01-02  2550.250053  1869.600067  2801.878052  1276.599960  271.799988   \n",
       "2020-01-03  2541.749954  1853.200073  2768.464981  1263.599960  272.709991   \n",
       "2020-01-06  2531.250000  1869.799957  2746.578781  1258.139984  278.089996   \n",
       "2020-01-07  2572.500038  1867.400055  2754.457840  1254.500000  279.489990   \n",
       "2020-01-08  2500.749969  1880.200043  2767.443634  1243.580048  283.119995   \n",
       "...                 ...          ...          ...          ...         ...   \n",
       "2020-12-24  5829.999924  2474.199982  4354.264801  2387.059937  462.130005   \n",
       "2020-12-28  5825.999832  2534.400024  4280.906738  2381.599960  463.589996   \n",
       "2020-12-29  5534.249878  2518.399963  4263.775299  2356.120071  447.589996   \n",
       "2020-12-30  5729.750061  2530.800018  4252.573547  2399.540024  447.910004   \n",
       "2020-12-31  5685.250092  2545.000000  4286.836426  2384.459976  452.250000   \n",
       "\n",
       "                  CHTR         MKC          PG         PGR          NEM  \\\n",
       "Date                                                                      \n",
       "2020-01-02  490.429993  327.721405  118.208862  341.399498  1168.771851   \n",
       "2020-01-03  494.470001  332.944458  117.413841  341.353569  1158.225388   \n",
       "2020-01-06  497.450012  334.939789  117.576675  347.554169  1169.853424   \n",
       "2020-01-07  499.160004  329.188568  116.848701  344.899635  1169.042191   \n",
       "2020-01-08  500.769989  327.428009  117.346779  346.937981  1137.943588   \n",
       "...                ...         ...         ...         ...          ...   \n",
       "2020-12-24  656.489990  369.677307  135.173843  467.704163  1664.569366   \n",
       "2020-12-28  651.900024  369.479523  136.116104  466.800270  1646.404465   \n",
       "2020-12-29  664.979980  375.016571  135.860901  464.754562  1643.927292   \n",
       "2020-12-30  653.489990  375.334137  135.222931  463.422470  1662.092300   \n",
       "2020-12-31  661.549988  379.462189  136.567596  470.415878  1648.330917   \n",
       "\n",
       "                   CCI         COG         Total  daily_return  \n",
       "Date                                                            \n",
       "2020-01-02  405.909119  115.724598  11738.293446           NaN  \n",
       "2020-01-03  408.143738  116.060427  11668.336382     -0.005960  \n",
       "2020-01-06  404.705795  117.000742  11672.939325      0.000394  \n",
       "2020-01-07  397.858521  117.672400  11703.017942      0.002577  \n",
       "2020-01-08  399.520248  113.172350  11618.212633     -0.007246  \n",
       "...                ...         ...           ...           ...  \n",
       "2020-12-24  455.012192  116.410582  19372.692091      0.012335  \n",
       "2020-12-28  461.660065  113.249495  19332.106497     -0.002095  \n",
       "2020-12-29  460.360016  110.500713  18975.535244     -0.018445  \n",
       "2020-12-30  462.073746  113.180775  19225.390003      0.013167  \n",
       "2020-12-31  470.346680  111.875097  19232.344839      0.000362  \n",
       "\n",
       "[253 rows x 14 columns]"
      ]
     },
     "execution_count": 116,
     "metadata": {},
     "output_type": "execute_result"
    }
   ],
   "source": [
    "tot_port_df = get_port_daily_return('2020-01-02', '2020-12-31', \n",
    "                                    port_shares, port_list)\n",
    "tot_port_df"
   ]
  },
  {
   "cell_type": "markdown",
   "metadata": {},
   "source": [
    "## Find Portfolio Beta"
   ]
  },
  {
   "cell_type": "code",
   "execution_count": 109,
   "metadata": {},
   "outputs": [],
   "source": [
    "def find_port_beta(port_df, sdate, edate):\n",
    "    # Will hold data for S&P and my portfolio\n",
    "    mult_df = pd.DataFrame()\n",
    "    \n",
    "    # Mask defining the dates worth of data that we want\n",
    "    port_mask = (port_df.index >= sdate) & (port_df.index <= edate)\n",
    "    \n",
    "    # Get S&P Dataframe\n",
    "    sp_df = get_df_from_csv('^GSPC')\n",
    "    \n",
    "    sp_mask = (sp_df.index >= sdate) & (sp_df.index <= edate)\n",
    "    \n",
    "    # Add S&P daily return to dataframe\n",
    "    mult_df['^GSPC'] = sp_df.loc[sp_mask]['daily_return']\n",
    "    \n",
    "    # Add the portfolio daily return data\n",
    "    mult_df['Portfolio'] = port_df.loc[port_mask]['daily_return']\n",
    "    \n",
    "    # Provides the covariance between the securities\n",
    "    cov = mult_df.cov() * 252\n",
    "    \n",
    "    # Get the covariance of the stocks and the market\n",
    "    cov_vs_market = cov.iloc[0,1]\n",
    "    \n",
    "    # Get annualized variance of the S&P\n",
    "    sp_var = mult_df['^GSPC'].var() * 252\n",
    "    \n",
    "    # Beta is normally calculated over a 5 year period which is why you may see a difference\n",
    "    beta = cov_vs_market / sp_var\n",
    "    return beta"
   ]
  },
  {
   "cell_type": "markdown",
   "metadata": {},
   "source": [
    "## Calculating Alpha"
   ]
  },
  {
   "cell_type": "markdown",
   "metadata": {},
   "source": [
    "Alpha provides a measure of how well a portfolio has performed. The CAPM assumes an Alpha of 0. Good portfolios have a positive Alpha, while poor have negative. \n",
    "\n",
    "Alpha = R – Rf – beta (Rm-Rf)\n",
    "\n",
    "* R represents the portfolio return\n",
    "* Rf represents the risk-free rate of return\n",
    "* Beta represents the systematic risk of a portfolio\n",
    "* Rm represents the market return, per a benchmark"
   ]
  },
  {
   "cell_type": "code",
   "execution_count": 111,
   "metadata": {},
   "outputs": [
    {
     "data": {
      "text/plain": [
       "0.9132983282237106"
      ]
     },
     "execution_count": 111,
     "metadata": {},
     "output_type": "execute_result"
    }
   ],
   "source": [
    "port_beta = find_port_beta(tot_port_df, '2020-01-02', '2020-12-31')\n",
    "port_beta"
   ]
  },
  {
   "cell_type": "code",
   "execution_count": 115,
   "metadata": {},
   "outputs": [
    {
     "name": "stdout",
     "output_type": "stream",
     "text": [
      "Portfolio Alpha : 26.74 %\n"
     ]
    }
   ],
   "source": [
    "port_alpha = roi_port - risk_free_rate - (port_beta * (sp_roi - risk_free_rate))\n",
    "print(\"Portfolio Alpha : %2.2f %%\" % (port_alpha * 100))"
   ]
  },
  {
   "cell_type": "markdown",
   "metadata": {},
   "source": [
    "This means our portfolio outperformed the market in 2020 by 26.74%"
   ]
  }
 ],
 "metadata": {
  "kernelspec": {
   "display_name": "Python 3 (ipykernel)",
   "language": "python",
   "name": "python3"
  },
  "language_info": {
   "codemirror_mode": {
    "name": "ipython",
    "version": 3
   },
   "file_extension": ".py",
   "mimetype": "text/x-python",
   "name": "python",
   "nbconvert_exporter": "python",
   "pygments_lexer": "ipython3",
   "version": "3.10.0"
  }
 },
 "nbformat": 4,
 "nbformat_minor": 4
}
